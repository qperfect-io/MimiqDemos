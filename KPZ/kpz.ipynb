{
 "cells": [
  {
   "cell_type": "markdown",
   "id": "cdd9bf81",
   "metadata": {},
   "source": [
    "# MIMIQ demo - The Heisenberg XXZ Model and KPZ Universality\n",
    "QPerfect 2025 https://qperfect.io/\n",
    "\n",
    "The interactive version of this demo can be found at"
   ]
  },
  {
   "cell_type": "markdown",
   "id": "ec26d34d",
   "metadata": {},
   "source": [
    "## Introduction and context\n",
    "At the forefront of computational physics lies the \"many-body problem\" - a class of challenges that describe the behavior of matter and materials. This problem is not only one of the most computationally demanding in physics but is also likely to be the first arena where quantum computers demonstrate superiority over classical ones. For quantum simulation, a quantum advantage is achieved when a quantum computer can compute relevant quantities (e.g., magnetism, universal critical exponents) with a precision and accuracy better than any known classical methods.\n",
    "\n",
    "In 2024, Google Quantum AI and Collaborators published a study on the dynamics of the Heisenberg XXZ model [https://doi.org/10.1126/science.adi7877], a model for describing quantum magnets. Their experiments used a 46 qubit quantum computer to sample output states produced by a deep and wide quantum circuit of alternating layers of 2-qubit Fermionic Simulation \"fSim\" gates, one of the highest fidelity gates available on the Google device. They observe the mean and variance of the transferred magnetisation exhibits characteristic powerlaws as a function of system size in agreement with the expected Kardar-Parisi-Zhang (KPZ) universality class. However higher moments revealed deviations from the KPZ predictions, hinting at the possibility of new physics.\n",
    "\n",
    "In this demo, we'll use MIMIQ to simulate the same Heisenberg XXZ model up to 46 qubits - a feat that significantly surpasses what was possible using other simulators, including in the original paper using a high-end NVIDIA GPU cluster. This demonstration underscores MIMIQ's potential for simulating novel physics and verifying quantum computations beyond the limits of traditional methods.\n",
    "\n",
    "### The Heisenberg XXZ Model: A Closer Look\n",
    "\n",
    "The model we're investigating is the one-dimensional (1D) XXZ model, which describes nearest-neighbor exchange interactions between spin-1/2 particles. The Hamiltonian is given by:\n",
    "\n",
    "$$H = \\sum_i (S_i^x S_{i+1}^x + S_i^y S_{i+1}^y+ \\Delta S_i^z S_{i+1}^z)$$\n",
    "\n",
    "Here, $S_i^x, S_i^y, S_i^z$ represent single-site spin operators, and $\\Delta$ is the anisotropy parameter.\n",
    "\n",
    "Our experiment involves simulating this model using a 1D chain of spins (qubits) subject to periodic applications of unitary $\\text{fSim}(\\theta,\\phi)$ gates. This includes:\n",
    "\n",
    "1. Initial State: We start with a product state where the left and right halves of the spin chain have average magnetizations of $\\pm \\tanh(\\mu)$. As $\\mu \\rightarrow \\infty$, we approach a pure domain-wall state, while $\\mu \\rightarrow 0$ leads towards infinite-temperature thermal state.\n",
    "\n",
    "2. Circuit Structure: The circuit comprises multiple cycles. Each cycle applies fSim gates to all neighboring pairs in the chain, alternating between odd and even bonds. In the limit $\\theta, \\phi \\rightarrow 0$ this is equivalent to the Trotter–Suzuki expansion of the XXZ Hamiltonian, with $\\Delta = \\sin(\\phi/2)/\\sin(\\theta). The number of qubits is fixed to twice the number of cycles.\n",
    "\n",
    "3. Analysis: By examining the output states for various random input states, we extract the statistical moments of the transferred magnetization - essentially, the number of spins that flip from one half of the qubit chain to the other.\n",
    "\n",
    "### MIMIQ Features used in this demo\n",
    "- Custom gates\n",
    "- Batch mode\n",
    "- Fast sampling"
   ]
  },
  {
   "cell_type": "markdown",
   "id": "a980c876",
   "metadata": {},
   "source": [
    "## MIMIQ implementation\n",
    "\n",
    "Let's begin by importing the necessary packages and establishing a connection to the MIMIQ service."
   ]
  },
  {
   "cell_type": "code",
   "execution_count": 487,
   "id": "5b78b37d",
   "metadata": {},
   "outputs": [
    {
     "data": {
      "text/plain": [
       "Connection:\n",
       "├── url: https://mimiq.qperfect.io/api\n",
       "├── Computing time: 590/10000 minutes\n",
       "├── Executions: 783/10000\n",
       "├── Max time limit is: Infinite\n",
       "├── Default time limit is: 30 minutes\n",
       "└── status: open"
      ]
     },
     "execution_count": 487,
     "metadata": {},
     "output_type": "execute_result"
    }
   ],
   "source": [
    "from mimiqcircuits import *\n",
    "import matplotlib.pyplot as plt\n",
    "import random\n",
    "import numpy as np\n",
    "from time import sleep\n",
    "\n",
    "# create a connection to the MIMIQ server\n",
    "conn = MimiqConnection()\n",
    "conn.connect()"
   ]
  },
  {
   "cell_type": "markdown",
   "id": "5119a97b",
   "metadata": {},
   "source": [
    "Next, we'll define the fSim (fermionic simulation) gate used by Google in their experiment. This gate is characterized by two parameters: theta and phi."
   ]
  },
  {
   "cell_type": "code",
   "execution_count": 1053,
   "id": "595a8907",
   "metadata": {},
   "outputs": [],
   "source": [
    "def fsim(theta, phi):\n",
    "    \"\"\"\n",
    "    Create a custom fSim (Fermionic Simulation) gate.\n",
    "    \"\"\"\n",
    "    matrix = np.array([\n",
    "        [1, 0, 0, 0],\n",
    "        [0, np.cos(theta), -1j*np.sin(theta), 0],\n",
    "        [0, -1j*np.sin(theta), np.cos(theta), 0],\n",
    "        [0, 0, 0, np.exp(-1j * phi)]\n",
    "    ])\n",
    "    \n",
    "    return GateCustom(matrix)"
   ]
  },
  {
   "cell_type": "markdown",
   "id": "83dd98b2",
   "metadata": {},
   "source": [
    "We'll also create functions to initialize the quantum state mimicking the initial conditions of the Google experiment and construct the corresponding circuit."
   ]
  },
  {
   "cell_type": "code",
   "execution_count": 1079,
   "id": "f033b15e",
   "metadata": {},
   "outputs": [],
   "source": [
    "def build0(nqubits, ncycles, fsim_gate):\n",
    "    \"\"\"\n",
    "    Build the quantum circuit for the XXZ model simulation\n",
    "    assuming a pure domain wall initial state (mu = infty)\n",
    "    \"\"\"\n",
    "    circ = Circuit()\n",
    "    \n",
    "    # prepare initial state\n",
    "    circ.push(GateX(), range(nqubits//2))\n",
    "    \n",
    "    # force MIMIQ to simulate the full chain\n",
    "    circ.push(GateID(), nqubits)\n",
    "    \n",
    "    for _ in range(ncycles):\n",
    "        # Apply fSim gates to even-odd pairs\n",
    "        for j in range(0, nqubits - 1, 2):\n",
    "            circ.push(fsim_gate, j, j+1)\n",
    "        # Apply fSim gates to odd-even pairs\n",
    "        for j in range(1, nqubits - 1, 2):\n",
    "            circ.push(fsim_gate, j, j+1)\n",
    "\n",
    "    return circ"
   ]
  },
  {
   "cell_type": "markdown",
   "id": "c3d5c791",
   "metadata": {},
   "source": [
    "Now we're ready to perform our simulation. We'll use the same parameters as those in Figure 1 of the Google paper, allowing for a direct comparison of results for a pure domain wall ($\\mu = \\infty$). Below we build a list of circuits, each for a different number of cycles up to 23."
   ]
  },
  {
   "cell_type": "code",
   "execution_count": 1080,
   "id": "234d92cb",
   "metadata": {},
   "outputs": [],
   "source": [
    "theta, phi = 0.4*np.pi, 0.8*np.pi\n",
    "nqubits = 46\n",
    "circuits = [build0(nqubits, t, fsim(theta,phi)) for t in range(24)]"
   ]
  },
  {
   "cell_type": "markdown",
   "id": "e1089954",
   "metadata": {},
   "source": [
    "This returns a list of 24 circuits, each representing a different number of cycles from 0 to 23. To efficiently process these, we'll leverage MIMIQ's batch mode capability. To ensure the accuracy of our simulation, we'll explicitly set the bond dimension, which controls the amount of entanglement that can be represented in the simulation. A higher bond dimension generally leads to more accurate results but can increase the run time. After running the simulations, we'll print the fidelity estimates for each circuit to check the accuracy."
   ]
  },
  {
   "cell_type": "code",
   "execution_count": 1081,
   "id": "855b322c",
   "metadata": {},
   "outputs": [
    {
     "name": "stdout",
     "output_type": "stream",
     "text": [
      " Cycle | Qubits | Fidelity\n",
      " ----------------------------\n",
      "     0 |      0 | 1.000000\n",
      "     1 |      2 | 1.000000\n",
      "     2 |      4 | 1.000000\n",
      "     3 |      6 | 1.000000\n",
      "     4 |      8 | 1.000000\n",
      "     5 |     10 | 1.000000\n",
      "     6 |     12 | 1.000000\n",
      "     7 |     14 | 1.000000\n",
      "     8 |     16 | 0.996208\n",
      "     9 |     18 | 0.996207\n",
      "    10 |     20 | 0.996181\n",
      "    11 |     22 | 0.995038\n",
      "    12 |     24 | 0.994884\n",
      "    13 |     26 | 0.994762\n",
      "    14 |     28 | 0.994314\n",
      "    15 |     30 | 0.993781\n",
      "    16 |     32 | 0.993322\n",
      "    17 |     34 | 0.992665\n",
      "    18 |     36 | 0.992001\n",
      "    19 |     38 | 0.991365\n",
      "    20 |     40 | 0.990076\n",
      "    21 |     42 | 0.988211\n",
      "    22 |     44 | 0.986008\n",
      "    23 |     46 | 0.981561\n"
     ]
    }
   ],
   "source": [
    "bonddim = 128\n",
    "nsamples = 2**12\n",
    "job = conn.execute(circuits, algorithm=\"mps\", nsamples = nsamples, bonddim=bonddim)\n",
    "\n",
    "results = conn.get_results(job)\n",
    "\n",
    "print(\" Cycle | Qubits | Fidelity\\n\", \"-\" * 28)\n",
    "for cycle, simulation in enumerate(results):\n",
    "    nqubits = 2 * cycle\n",
    "    fidelity = simulation.fidelities[0]\n",
    "    print(f\"{cycle:6d} | {nqubits:6d} | {fidelity:.6f}\")"
   ]
  },
  {
   "cell_type": "markdown",
   "id": "c000e20b",
   "metadata": {},
   "source": [
    "Our simulations show fidelities very close to 1, decreasing slightly for larger cycle numbers. This high fidelity indicates the accuracy of our simulation. If you wish to extend the simulation even further, you may want to increase the bond dimension even more."
   ]
  },
  {
   "cell_type": "markdown",
   "id": "628a5d1b",
   "metadata": {},
   "source": [
    "## Reproducing some plots from the paper"
   ]
  },
  {
   "cell_type": "markdown",
   "id": "3199f823",
   "metadata": {},
   "source": [
    "Lets visualize the samples from each cycle."
   ]
  },
  {
   "cell_type": "code",
   "execution_count": 1082,
   "id": "3dd3a43a",
   "metadata": {},
   "outputs": [
    {
     "data": {
      "image/png": "[encoded data removed]",
      "text/plain": [
       "<Figure size 640x480 with 1 Axes>"
      ]
     },
     "metadata": {},
     "output_type": "display_data"
    }
   ],
   "source": [
    "# Choose at random one sample from each simulation\n",
    "bitstrings = [random.choice(simulation.cstates).to01() for simulation in results]\n",
    "mz = np.array([list(s) for s in bitstrings], dtype=int)\n",
    "\n",
    "# Create a custom colormap\n",
    "from matplotlib.colors import LinearSegmentedColormap\n",
    "my_cmap = LinearSegmentedColormap.from_list(\"custom_cmap\", ['#BFBF00', '#1F77B4'])\n",
    "\n",
    "# Create the plot\n",
    "plt.imshow(np.transpose(mz), cmap=my_cmap)\n",
    "for y in range(46):\n",
    "    if y<=24:\n",
    "        plt.axvline(x=y-0.5, color='white', linestyle='-', linewidth=3)\n",
    "    plt.axhline(y=y-0.5, color='white', linestyle='-', linewidth=0.5)\n",
    "\n",
    "plt.gca().set_aspect(0.8) \n",
    "plt.xlabel(\"Cycle number\")\n",
    "plt.ylabel(\"Site in 1D chain\");"
   ]
  },
  {
   "cell_type": "markdown",
   "id": "6c5b6edf",
   "metadata": {},
   "source": [
    "Lets take a look at the probability distribution of transferred magnetization after t = 1, 5 and 20 cycles. This can be directly compared with figure 1c in the paper. First we will define a simple function to extract the transferred magnetisation."
   ]
  },
  {
   "cell_type": "code",
   "execution_count": 1087,
   "id": "f0a9aa2a",
   "metadata": {},
   "outputs": [],
   "source": [
    "def transferred_magnetisation_inf(samples):\n",
    "    \"\"\"\n",
    "    Calculate the transferred magnetisation for each\n",
    "    sample assuming a pure domain wall initial state\n",
    "    \"\"\"\n",
    "    nq = len(samples[0])\n",
    "    mid = nq // 2\n",
    "    init_right_sum = 0\n",
    "\n",
    "    M = np.zeros(len(samples))\n",
    "    for i,sample in enumerate(samples):\n",
    "        right_sum = sum(int(bit) for bit in sample[mid:])\n",
    "        M[i]= 2 * (right_sum - init_right_sum)\n",
    "\n",
    "    return M"
   ]
  },
  {
   "cell_type": "markdown",
   "id": "f1995ad5",
   "metadata": {},
   "source": [
    "Finally we can plot histograms of the transferred magnetisation for 1, 5 and 20 cycles."
   ]
  },
  {
   "cell_type": "code",
   "execution_count": 1098,
   "id": "14c3910c",
   "metadata": {},
   "outputs": [
    {
     "data": {
      "image/png": "[encoded data removed]",
      "text/plain": [
       "<Figure size 300x500 with 1 Axes>"
      ]
     },
     "metadata": {},
     "output_type": "display_data"
    }
   ],
   "source": [
    "M1 = transferred_magnetisation_inf(results[1].cstates)\n",
    "M5 = transferred_magnetisation_inf(results[5].cstates)\n",
    "M20 = transferred_magnetisation_inf(results[20].cstates)\n",
    "\n",
    "fig, ax = plt.subplots(figsize=(3, 5))\n",
    "for data, color in zip([M1, M5, M20], [\"#FAC3BE\", \"#F767A1\", \"#AD017E\"]):\n",
    "    ax.hist(data, bins=np.arange(-1, 27, 2), histtype='step', linewidth=2, weights=1/nsamples*np.ones_like(data), color=color)\n",
    "ax.set_xlabel('Transferred Magnetization')\n",
    "ax.set_ylabel('Probability');"
   ]
  },
  {
   "cell_type": "markdown",
   "id": "7b9f35e1",
   "metadata": {},
   "source": [
    "## Going further with MIMIQ\n",
    "\n",
    "Having successfully reproduced the experimental protocol, we can now try to verify the Kardar-Parisi-Zhang (KPZ) scaling law. This verification requires a statistical analysis across various initial states for finite values of μ. Ordinarily, this would involve numerous simulations with different random initial states, necessitating many job submissions to the MIMIQ servers. However, we can employ a more efficient approach:\n",
    "- Prepare the initial state in a superposition which depends on the parameter $\\mu$.\n",
    "- Use Measure instructions before and after applying the circuit.\n",
    "    - The first Measure instruction will prepare the initial product state and record it to the first $n$ bits of the classical register\n",
    "    - The second Measure instruction will record the final states to the last $n$ bits of the classical register."
   ]
  },
  {
   "cell_type": "code",
   "execution_count": 1099,
   "id": "8fd2c4b3",
   "metadata": {},
   "outputs": [],
   "source": [
    "def build(nqubits, ncycles, fsim_gate, mu):\n",
    "    \"\"\"\n",
    "    Build the full quantum circuit for the XXZ model simulation\n",
    "    \n",
    "    Initialization is performed by preparing the qubits in a superposition state\n",
    "    followed by Measure instruction.\n",
    "    \"\"\"\n",
    "    circ = Circuit()\n",
    "\n",
    "    # calculate rotation angle\n",
    "    Sz = np.tanh(mu)\n",
    "    theta = 2 * np.arccos(np.sqrt((1 - Sz) / 2))\n",
    "    theta2 = -2 * np.arccos(np.sqrt((1 + Sz) / 2))\n",
    "    \n",
    "    # prepare initial superposition state\n",
    "    circ.push(GateRY(-theta2), range(0,nqubits//2))\n",
    "    circ.push(GateRY(theta), range(nqubits//2, nqubits))\n",
    "\n",
    "    # measure initial state\n",
    "    circ.push(Measure(), range(nqubits), range(nqubits))\n",
    "\n",
    "    for _ in range(ncycles):\n",
    "        # Apply fSim gates to even-odd pairs\n",
    "        for j in range(0, nqubits - 1, 2):\n",
    "            circ.push(fsim_gate, j, j+1)\n",
    "        # Apply fSim gates to odd-even pairs\n",
    "        for j in range(1, nqubits - 1, 2):\n",
    "            circ.push(fsim_gate, j, j+1)\n",
    "    \n",
    "    # measure final state\n",
    "    circ.push(Measure(), range(nqubits), range(nqubits, 2*nqubits))\n",
    "\n",
    "    return circ"
   ]
  },
  {
   "cell_type": "markdown",
   "id": "29eaaf6a",
   "metadata": {},
   "source": [
    "### Running the simulations (mu=1.0)\n",
    "By incorporating Measure instructions, each sample is treated as an independent simulation run. This method allows us to gather a large amount of data in a single execution, though it may take some time to process a high number of samples.\n",
    "\n",
    "Let's prepare our circuit and execute it on the MIMIQ platform."
   ]
  },
  {
   "cell_type": "code",
   "execution_count": 1100,
   "id": "8e3e2aa3",
   "metadata": {},
   "outputs": [],
   "source": [
    "theta = 0.4 * np.pi\n",
    "phi = 0.8 * np.pi\n",
    "mu = 1.0\n",
    "bonddim = 128\n",
    "nsamples = lambda t: 800 // t # adaptive number of samples\n",
    "\n",
    "data = []\n",
    "for t in range(4, 24):\n",
    "    nqubits = 2 * t\n",
    "    circuits = build(nqubits, t, fsim(theta, phi), mu)\n",
    "    job = conn.execute(\n",
    "        circuits,\n",
    "        algorithm=\"mps\",\n",
    "        nsamples=nsamples(t),\n",
    "        bonddim=bonddim\n",
    "    )\n",
    "    expt = {\n",
    "        'job': job,\n",
    "        'cycles': t,\n",
    "        'bonddim': bonddim,\n",
    "        'samples': nsamples(t),\n",
    "        'nqubits': nqubits,\n",
    "        'mu': mu,\n",
    "        'theta': theta,\n",
    "        'phi': phi\n",
    "    }\n",
    "    data.append(expt)\n",
    "    sleep(1)"
   ]
  },
  {
   "cell_type": "markdown",
   "id": "ad7d8dc4",
   "metadata": {},
   "source": [
    "### Extracting observables\n",
    "To accommodate our modified approach, we need to create a new function for calculating the transferred magnetization. This function will now base its calculations on both the initial and final bitstrings obtained from our measurements."
   ]
  },
  {
   "cell_type": "code",
   "execution_count": 1101,
   "id": "500f44b2",
   "metadata": {},
   "outputs": [],
   "source": [
    "def transferred_magnetization(samples):\n",
    "    Mz = np.zeros(len(samples))\n",
    "    \n",
    "    split = len(samples[0]) // 2\n",
    "    for i,bs in enumerate(samples):\n",
    "        initial = bs[:split]\n",
    "        final = bs[split:]\n",
    "        mid = len(initial) // 2\n",
    "        Mz[i] = 2 * (final.to01()[:mid].count('1') - initial.to01()[:mid].count('1'))\n",
    "    return Mz"
   ]
  },
  {
   "cell_type": "markdown",
   "id": "5e463b7e",
   "metadata": {},
   "source": [
    "Once the simulations are complete we'll retrieve the results and generate a detailed report."
   ]
  },
  {
   "cell_type": "code",
   "execution_count": 1104,
   "id": "b27cca35",
   "metadata": {},
   "outputs": [
    {
     "name": "stdout",
     "output_type": "stream",
     "text": [
      "Cycles      Fid    Mean Mz     Var Mz    Runtime   Trials\n",
      "------------------------------------------------------------\n",
      "     4   1.0000     3.9600     5.2784     0.3235      200\n",
      "     5   1.0000     4.5625     5.5086     0.9066      160\n",
      "     6   1.0000     5.2481     4.7881     1.7418      133\n",
      "     7   1.0000     6.1228     6.9674     8.2042      114\n",
      "     8   0.9988     6.4600     7.1084    30.4813      100\n",
      "     9   0.9857     6.7273     8.2893   102.2527       88\n",
      "    10   0.9852     7.4000     7.6400   155.9567       80\n",
      "    11   0.9683     8.1667    10.5278   287.4743       72\n",
      "    12   0.9661     8.8182     9.3306   341.6125       66\n",
      "    13   0.9242     8.3934     7.1895   482.8892       61\n",
      "    14   0.9301     8.7368     9.3518   543.3167       57\n",
      "    15   0.8886     9.4340     8.6607   733.4767       53\n",
      "    16   0.8417     8.4800    10.3296   822.1937       50\n",
      "    17   0.8218    10.2128    12.1249  1014.0792       47\n",
      "    18   0.7656     9.9545     9.9070  1078.3841       44\n",
      "    19   0.7876    10.4286    11.7211  1222.1644       42\n",
      "    20   0.6642     9.8000    16.1600  1418.8198       40\n",
      "    21   0.7046    10.3158     8.3213  1544.4104       38\n",
      "    22   0.6063    10.8889    14.5432  1620.0289       36\n",
      "    23   0.6122    11.7647    11.4740  1769.6291       34\n"
     ]
    }
   ],
   "source": [
    "def process_experiment(conn, expt):\n",
    "    if not conn.isJobDone(expt['job']):\n",
    "        expt['done'] = False\n",
    "        return expt\n",
    "\n",
    "    results = conn.get_result(expt['job'])\n",
    "    return {\n",
    "        **expt,\n",
    "        'done': True,\n",
    "        'fidelities': results.fidelities,\n",
    "        'Mz': transferred_magnetization(results.cstates),\n",
    "        'runtimes': results.timings['total']\n",
    "    }\n",
    "\n",
    "data = [process_experiment(conn, expt) for expt in data]\n",
    "\n",
    "print(f\"{'Cycles':>6} {'Fid':>8} {'Mean Mz':>10} {'Var Mz':>10} {'Runtime':>10} {'Trials':>8}\")\n",
    "print(\"-\" * 60)\n",
    "for expt in data:\n",
    "    if expt['done']:\n",
    "        print(f\"{expt['cycles']:6d} {np.mean(expt['fidelities']):8.4f} \"\n",
    "              f\"{np.mean(expt['Mz']):10.4f} {np.var(expt['Mz']):10.4f} \"\n",
    "              f\"{np.mean(expt['runtimes']):10.4f} {len(expt['Mz']):8d}\")"
   ]
  },
  {
   "cell_type": "markdown",
   "id": "49940928",
   "metadata": {},
   "source": [
    "### Plot the data and compare with the original experiments"
   ]
  },
  {
   "cell_type": "code",
   "execution_count": 1106,
   "id": "0a59b429",
   "metadata": {},
   "outputs": [
    {
     "data": {
      "image/png": "[encoded data removed]",
      "text/plain": [
       "<Figure size 800x400 with 2 Axes>"
      ]
     },
     "metadata": {},
     "output_type": "display_data"
    }
   ],
   "source": [
    "# generate arrays\n",
    "cycles = [expt['cycles'] for expt in data if expt['done']]\n",
    "meanM = [np.mean(expt['Mz']) for expt in data if expt['done']]\n",
    "varM = [np.var(expt['Mz']) for expt in data if expt['done']]\n",
    "\n",
    "# Google's experiments for the mean and variance\n",
    "# https://zenodo.org/records/10957534\n",
    "mean_google = [4.13764503e+00, 4.86157089e+00, 5.53853615e+00, 6.25599039e+00,\n",
    "               6.86650431e+00, 7.47127230e+00, 8.01175521e+00, 8.49793481e+00,\n",
    "               8.91637586e+00, 9.35459297e+00, 9.80771573e+00, 1.02247414e+01,\n",
    "               1.06550979e+01, 1.10051316e+01, 1.13353823e+01, 1.17048219e+01,\n",
    "               1.19527548e+01, 1.23273715e+01, 1.24908791e+01, 1.29423539e+01]\n",
    "\n",
    "var_google = [ 4.16691574e+00, 5.13637533e+00, 5.99239447e+00, 6.81448950e+00,\n",
    "               7.57429554e+00, 8.30211450e+00, 9.09801946e+00, 9.73519956e+00,\n",
    "               1.03150800e+01, 1.09799737e+01, 1.16172881e+01, 1.20237727e+01,\n",
    "               1.27507625e+01, 1.31558716e+01, 1.38362763e+01, 1.41206288e+01,\n",
    "               1.46993168e+01, 1.50762525e+01, 1.52515802e+01, 1.51641930e+01]\n",
    "\n",
    "fig, (ax1, ax2) = plt.subplots(1, 2, figsize=(8, 4))\n",
    "\n",
    "# First subplot\n",
    "ax1.loglog(cycles, meanM, lw=4)\n",
    "ax1.loglog(range(4,24), mean_google, 's')\n",
    "ax1.set_title(\"Mean Transferred Magnetization\")\n",
    "\n",
    "ax2.loglog(cycles, varM, lw=4)\n",
    "ax2.loglog(range(4,24), var_google, 's')\n",
    "ax2.set_title(\"Variance of the Transferred Magnetization\")\n",
    "\n",
    "for ax in [ax1,ax2]:\n",
    "    ax.text(10, 5, '$t^{2/3}$', fontsize=12, color='black')\n",
    "    ax.loglog(cycles, 1.25*np.array(cycles)**(2/3), '-k')\n",
    "    ax.set_xticks([4,5,6,7,8,9,10,15,20])\n",
    "    ax.set_xticklabels([4,5,6,7,8,9,10,15,20])\n",
    "    ax.set_xlabel('Cycle number, t')\n",
    "    ax.set_yticks([3,4,5,6,7,8,9,10,15])\n",
    "    ax.set_yticklabels([3,4,5,6,7,8,9,10,15])\n",
    "plt.tight_layout()"
   ]
  },
  {
   "cell_type": "markdown",
   "id": "264e0627",
   "metadata": {},
   "source": [
    "The simulations confirm that the mean transferred magnetization and variance closely follow the expected KPZ scaling of $t^{2/3}$ within sampling precision, aligning with the experiments reported in the Google paper (orange squares). We note that the experimental data appears slightly shifted up compared to the simulations, which upon closer inspection can also be seen in the exact simulataions presented in the paper. The estimated fidelity of the simulations gradually decreases with cycle number, reaching approximately 0.5 for the largest problem size (23 cycles = 46 qubits), without significantly impacting the observables. Compared to the Google paper, these simulations are substantially faster, typically taking minutes to run versus several hours on a large-scale GPU based statevector simulator, with minimal accuracy loss.\n",
    "\n",
    "MIMIQ's capabilities extend beyond this challenging many-body problem, which combines high entanglement with non-trivial observables. We encourage you to explore further using MIMIQ. For example, with MIMIQ you can:\n",
    "- Analyze of various quantum observables and their higher-order moments\n",
    "- Investigate of different quantum models, including higher-dimensional systems\n",
    "- Explore of time-dependent quantum problems\n",
    "- Study disorder effects and relaxation dynamics in quantum systems\n",
    "- Simulate and compare both ideal and noisy quantum circuits\n",
    "By leveraging MIMIQ's advanced features, you can validate theoretical models, discover potential new universality classes, and develop insights into complex quantum systems, pushing the boundaries in many-body physics, quantum simulation, and quantum computing."
   ]
  }
 ],
 "metadata": {
  "kernelspec": {
   "display_name": "Python 3 (ipykernel)",
   "language": "python",
   "name": "python3"
  },
  "language_info": {
   "codemirror_mode": {
    "name": "ipython",
    "version": 3
   },
   "file_extension": ".py",
   "mimetype": "text/x-python",
   "name": "python",
   "nbconvert_exporter": "python",
   "pygments_lexer": "ipython3",
   "version": "3.12.2"
  }
 },
 "nbformat": 4,
 "nbformat_minor": 5
}
