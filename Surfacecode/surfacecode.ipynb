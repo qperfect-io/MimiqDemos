{
 "cells": [
  {
   "cell_type": "markdown",
   "id": "cdd9bf81",
   "metadata": {},
   "source": [
    "# MIMIQ demo - Surface Code\n",
    "QPerfect 2025 https://qperfect.io/\n",
    "\n",
    "The interactive version of this demo can be found at https://github.com/qperfect-io/MimiqDemos/blob/main/SurfaceCode/surfacecode.ipynb"
   ]
  },
  {
   "cell_type": "markdown",
   "id": "ec26d34d",
   "metadata": {},
   "source": [
    "## Introduction and context\n",
    "\n",
    "Quantum error correction (QEC) codes are the cornerstone of building reliable quantum computers. They are ingenious quantum algorithms that transform multiple noisy qubits into a smaller number of more robust qubits. Currently, QEC codes represent the only known theoretical approach to systematically reduce noise in quantum computers in a scalable manner. Among the various QEC codes, the surface code has emerged as a frontrunner for practical implementation. Its popularity stems from its high error threshold and compatibility with two-dimensional qubit architectures.\n",
    "\n",
    "The surface code arranges physical qubits in a two-dimensional lattice, where data qubits store quantum information and ancilla qubits are used to detect errors through parity measurements. While researchers often use simplified Pauli-based noise models to demonstrate the code's effectiveness mathematically, quantitative assessment of these codes in realistic scenarios, including non-Pauli noise, requires sophisticated numerical simulations.\n",
    "\n",
    "In this demo, we'll use MIMIQ to implement the rotated ZXXZ surface code, recently demonstrated experimentally by Google Quantum AI [Nature 614, 676-681 (2023)]. As a proof of concept, we'll execute full error correction cycles, including measurement operations, without incorporating errors. If you like you can easily add them yourself using MIMIQ's noisy simulations functionality: https://docs.qperfect.io/mimiqcircuits-python/manual/noise.html. By optimizing the Matrix Product State (MPS) representation, we'll push the boundaries of full state simulations up to distance 9, corresponding to an impressive 161 qubits.\n",
    "\n",
    "### The Surface Code: A Closer Look\n",
    "\n",
    "The rotated ZXXZ surface code encodes logical qubits in entangled states of d² physical qubits, with an additional d²-1 auxiliary qubits for parity measurements. Here's how it works:\n",
    "\n",
    "- Lattice Preparation: We arrange d² physical qubits for each logical qubit in a 2D grid, complemented by d²-1 auxiliary qubits for parity measurements. Data qubits are initialized in an eigenstate of half the ZXXZ stabilizers, aligning with either a logical Z state or a logical X state.\n",
    "- Error Correction Cycles: Each cycle involves applying CZ gates between each data qubit and its four nearest neighbors, interspersed with Hadamard gates. We then perform projective measurements on auxiliary qubits to detect errors.\n",
    "- Error decoding: Measurement results are used to identify potential errors which can then be corrected, either by direct feedback or by corrections applied in post-processing.\n",
    "- Repetition: Error correction cycles continue throughout the computation, with periodic verification of the logical state and application of necessary logical operations.\n",
    "\n",
    "### MIMIQ Features used in this demo\n",
    "- Midcircuit measurements\n",
    "- Qubit ordering\n",
    "- Large bond dimension"
   ]
  },
  {
   "cell_type": "markdown",
   "id": "a980c876",
   "metadata": {},
   "source": [
    "## MIMIQ implementation\n",
    "\n",
    "Let's begin by importing the necessary packages and establishing a connection to the MIMIQ service."
   ]
  },
  {
   "cell_type": "code",
   "execution_count": 1,
   "id": "5b78b37d",
   "metadata": {},
   "outputs": [
    {
     "data": {
      "text/plain": [
       "Connection:\n",
       "├── url: https://mimiq.qperfect.io/api\n",
       "├── Computing time: 5042/10000 minutes\n",
       "├── Executions: 2044/10000\n",
       "├── Max time limit per request: 180 minutes\n",
       "├── Default time limit is equal to max time limit: 180 minutes\n",
       "└── status: open"
      ]
     },
     "execution_count": 1,
     "metadata": {},
     "output_type": "execute_result"
    }
   ],
   "source": [
    "from mimiqcircuits import *\n",
    "import matplotlib.pyplot as plt\n",
    "import numpy as np\n",
    "from time import sleep\n",
    "\n",
    "# create a connection to the MIMIQ server\n",
    "conn = MimiqConnection()\n",
    "conn.connect()"
   ]
  },
  {
   "cell_type": "markdown",
   "id": "79de5cc6",
   "metadata": {},
   "source": [
    "Now we will create some essential helper functions. The surface code is implemented on a two-dimensional grid of qubits, with specific couplings between data and ancilla qubits. To manage this structure efficiently, we'll define two key functions:\n",
    "1. A function to generate a list of coordinates for the data and ancilla qubits.\n",
    "2. A function to generate a mapping from qubit coordinates to unique indices.\n",
    "3. A function to identify pairs of qubits that meet specific nearest-neighbor criteria."
   ]
  },
  {
   "cell_type": "code",
   "execution_count": 2,
   "id": "fb44aee7",
   "metadata": {},
   "outputs": [],
   "source": [
    "def zxxz_surface_code_registers(d):\n",
    "    \"\"\" Generate qubit coordinates for a distance d surface code \"\"\"\n",
    "    data = [(x, y) for x in range(1, 2*d, 2) for y in range(1, 2*d, 2)]\n",
    "    X = [(x, y) for y in range(2, 2*d, 2) for x in range(2 if y % 4 == 0 else 0, 2*d+2, 4)]\n",
    "    Z = [(x, y) for x in range(2, 2*d, 2) for y in range(0 if x % 4 == 0 else 2, 2*d+2, 4)]\n",
    "    return data, X, Z\n",
    "\n",
    "def qubit_map(*coordinates, ordering=None):\n",
    "    \"\"\"\n",
    "    Generate a dictionary mapping qubit coordinates to unique indices.\n",
    "\n",
    "    This function takes an arbitrary number of coordinate lists and creates a\n",
    "    mapping from each coordinate to a unique index. By default the qubits are \n",
    "    sorted from top-left to bottom-right (first by x, then by y).\n",
    "    \"\"\"\n",
    "    # sorting function\n",
    "    if ordering is None:\n",
    "        ordering = lambda coord: (coord[0], coord[1])\n",
    "        \n",
    "    # Collect all qubit coordinates into a single list\n",
    "    all_qubits = [coord for coord_list in coordinates for coord in coord_list]\n",
    "    \n",
    "    # Sort qubits from top-left to bottom-right\n",
    "    sorted_qubits = sorted(all_qubits, key=ordering)\n",
    "    \n",
    "    # Create and return dictionary mapping coordinates to unique indices\n",
    "    return {coord: index for index, coord in enumerate(sorted_qubits)}\n",
    "\n",
    "def get_pairs(qcoords1, targets):\n",
    "    \"\"\"\n",
    "    Find pairs of neighboring coordinates.\n",
    "\n",
    "    This function identifies pairs of coordinates from two sets in\n",
    "    a given direction. \n",
    " \n",
    "    targets = {dir1:coords1, dir2:coords2...}\n",
    "    \"\"\"\n",
    "    offsets = {'SE': (1, 1), 'SW': (-1, 1), 'NE': (1, -1), 'NW': (-1, -1)}\n",
    "    sub1, sub2 = [], []\n",
    "\n",
    "    for direction,qcoords2 in targets.items():\n",
    "        dx, dy = offsets[direction]\n",
    "        for (x, y) in qcoords1:\n",
    "            for (ax, ay) in qcoords2:\n",
    "                if (ax - x, ay - y) == (dx, dy):\n",
    "                    sub1.append((x,y))\n",
    "                    sub2.append((ax,ay))\n",
    "                    break\n",
    "    return sub1, sub2"
   ]
  },
  {
   "cell_type": "markdown",
   "id": "1df56fc9",
   "metadata": {},
   "source": [
    "As an example, let's plot the coordinates for a distance 5 surface code"
   ]
  },
  {
   "cell_type": "code",
   "execution_count": 3,
   "id": "27e3f59f",
   "metadata": {},
   "outputs": [
    {
     "data": {
      "image/png": "[encoded data removed]",
      "text/plain": [
       "<Figure size 400x400 with 1 Axes>"
      ]
     },
     "metadata": {},
     "output_type": "display_data"
    }
   ],
   "source": [
    "def plot_zxxz(data, X, Z, ax=None):\n",
    "    if ax is None:\n",
    "        fig, ax = plt.subplots()\n",
    "        \n",
    "    s = ax.get_figure().get_size_inches()[1]**2.6\n",
    "    ax.scatter(*zip(*X), marker='s', color='#669DF6', s=30*s, label='X Ancilla')\n",
    "    ax.scatter(*zip(*Z), marker='s', color='#ACC9F9', s=30*s, label='Z Ancilla')\n",
    "    ax.scatter(*zip(*data), marker='o', color='k', s=2*s, label='Data')\n",
    "\n",
    "    ax.axis('equal')  # Ensure square aspect ratio\n",
    "    ax.invert_yaxis()  # Invert the y-axis\n",
    "    ax.grid(True)\n",
    "\n",
    "# make a qubit placement plot for a d=5 surface code\n",
    "data, X, Z = zxxz_surface_code_registers(5)\n",
    "qmap = qubit_map(data,X,Z)\n",
    "fig, ax = plt.subplots(figsize=(4, 4))\n",
    "plot_zxxz(data, X, Z, ax=ax)\n",
    "for (x, y), num in qmap.items():\n",
    "    ax.annotate(str(num), (x, y), color='w', size=7,\n",
    "                horizontalalignment='center',\n",
    "                verticalalignment='center')\n",
    "plt.show()"
   ]
  },
  {
   "cell_type": "markdown",
   "id": "a9eb27dc",
   "metadata": {},
   "source": [
    "The white numbers indicate the index of each qubit in the circuit. We can also visualize the stabilizer gates"
   ]
  },
  {
   "cell_type": "code",
   "execution_count": 4,
   "id": "518712e3",
   "metadata": {},
   "outputs": [
    {
     "data": {
      "image/png": "[encoded data removed]",
      "text/plain": [
       "<Figure size 800x200 with 4 Axes>"
      ]
     },
     "metadata": {},
     "output_type": "display_data"
    }
   ],
   "source": [
    "def plot_zxxz_pairs(ax, targets):\n",
    "    plot_zxxz(data, X, Z, ax)\n",
    "    list1, list2 = get_pairs(data, targets)\n",
    "    for (x1, y1), (x2, y2) in zip(list1, list2):\n",
    "        ax.plot([x1, x2], [y1, y2], 'k-')\n",
    "\n",
    "fig, axes = plt.subplots(1, 4, figsize=(8,2))\n",
    "\n",
    "plot_zxxz_pairs(axes[0], {'SE':X+Z})\n",
    "plot_zxxz_pairs(axes[1], {'SW':Z, 'NE':X})\n",
    "plot_zxxz_pairs(axes[2], {'SW':X, 'NE':Z})\n",
    "plot_zxxz_pairs(axes[3], {'NW':X+Z})\n",
    "\n",
    "plt.tight_layout()\n",
    "plt.show()"
   ]
  },
  {
   "cell_type": "markdown",
   "id": "a4ae55a5",
   "metadata": {},
   "source": [
    "Now, let's define the core function that constructs the quantum circuit for the ZXXZ surface code. This function:\n",
    "1. Takes an odd integer 'd' as input, representing the code distance.\n",
    "2. Generates the coordinates for data qubits, X ancilla qubits, and Z ancilla qubits.\n",
    "3. Constructs the quantum circuit by adding gates for 'd' error correction cycles."
   ]
  },
  {
   "cell_type": "code",
   "execution_count": 5,
   "id": "3d53f9f1",
   "metadata": {},
   "outputs": [],
   "source": [
    "def zxxz_surface_code(d, rounds = None, init = 'X', meas = 'X', ordering = None):\n",
    "    \"\"\"\n",
    "    Implement ZXXZ rotated surface code of distance d.\n",
    "    \n",
    "    This function generates a quantum circuit for the ZXXZ rotated surface code,\n",
    "    as described in [Nature 614, 676–681 (2023)] with d rounds of error correction\n",
    "    \"\"\"\n",
    "    if rounds == None: rounds = d\n",
    "    # generate coordinates for data, x and z ancilla qubits\n",
    "    data, X, Z = zxxz_surface_code_registers(d)\n",
    "    qmap = qubit_map(data, X, Z, ordering=ordering) # Map coordinates to qubit indices\n",
    "    n = len(X + Z) # number of ancilla for measurements\n",
    "\n",
    "    def q(coords):\n",
    "        \"\"\"Convert coordinates to qubit indices.\"\"\"\n",
    "        return [qmap[c] for c in coords]\n",
    "    \n",
    "    def p(coords1, targets):\n",
    "        \"\"\"Get control and target qubit index pairs.\"\"\"\n",
    "        c, t = get_pairs(coords1, targets)\n",
    "        return q(c), q(t)\n",
    "        \n",
    "    # Initialize circuit\n",
    "    circ = Circuit()\n",
    "    if init == \"X\": \n",
    "        circ.push(GateH(), q(data[::2])) \n",
    "    else: \n",
    "        circ.push(GateH(), q(data[1::2])) \n",
    "    \n",
    "    # Quantum error correction cycles\n",
    "    for t in range(rounds):\n",
    "        # Hadamard on ancilla qubits\n",
    "        circ.push(GateH(), q(X + Z))\n",
    "\n",
    "        # Stabilizer measurement cycles\n",
    "        circ.push(GateCZ(), *p(data, {'SE':X+Z}))\n",
    "        \n",
    "        circ.push(GateH(), q(data))\n",
    "        \n",
    "        circ.push(GateCZ(), *p(data, {'SW':X, 'NE':Z}))\n",
    "        circ.push(GateCZ(), *p(data, {'SW':Z, 'NE':X}))\n",
    "        \n",
    "        circ.push(GateH(), q(data))\n",
    "\n",
    "        circ.push(GateCZ(), *p(data, {'NW':X+Z}))\n",
    "        \n",
    "        if t == rounds - 1:\n",
    "            if meas == \"X\":\n",
    "                circ.push(GateH(), q(data[::2]))\n",
    "            else: \n",
    "                circ.push(GateH(), q(data[1::2]))\n",
    "                \n",
    "        circ.push(GateH(), q(X + Z))\n",
    "        circ.push(Measure(), q(X + Z), range(t*n, t*n+n)) \n",
    "\n",
    "    return circ"
   ]
  },
  {
   "cell_type": "markdown",
   "id": "c648632c",
   "metadata": {},
   "source": [
    "### Distance 5 surface code (49 qubits)\n",
    "Now we are ready to perform our simulation. In the following we will time how long it takes to execute the surface code error correction cycle for distance $d=5$ (corresponding to 49 qubits) and various bond dimensions up to 256 and a fixed entanglement dimension of 4. We'll run each simulation 10 times to get the average run time and fidelity."
   ]
  },
  {
   "cell_type": "code",
   "execution_count": 6,
   "id": "234d92cb",
   "metadata": {},
   "outputs": [],
   "source": [
    "def submit_job(circuit, bonddims=[64], nsamples=1, entdim=4, **kwargs):\n",
    "    expt = {'jobs':[], 'bonddims':bonddims, 'nsamples':nsamples, \n",
    "            'd':d, 'nqubits':circuit.num_qubits(), 'ngates':len(circuit), **kwargs}\n",
    "    for bd in bonddims:\n",
    "        job = conn.execute(circuit, algorithm=\"mps\", nsamples=nsamples, bonddim=bd, entdim=entdim, **kwargs)\n",
    "        expt['jobs'].append(job)\n",
    "        sleep(1)\n",
    "    return expt\n",
    "\n",
    "d = 5\n",
    "circuit = zxxz_surface_code(d)\n",
    "expt = submit_job(circuit, bonddims=[4,8,16,32,64,128,256], nsamples=10)"
   ]
  },
  {
   "cell_type": "code",
   "execution_count": 11,
   "id": "e08e30db",
   "metadata": {},
   "outputs": [
    {
     "name": "stdout",
     "output_type": "stream",
     "text": [
      "Distance: 5 (surface code)\n",
      "Number of qubits: 49\n",
      "Number of gates: 1036\n",
      "----------------------------------------\n",
      "Bonddim Fidelity       Time (s)  \n",
      "----------------------------------------\n",
      "4       0.000000       2.648     \n",
      "8       0.000000       34.550    \n",
      "16      0.000000       15.678    \n",
      "32      0.000000       38.307    \n",
      "64      0.011236       77.357    \n",
      "128     0.233788       117.632   \n",
      "256     1.000000       154.360   \n"
     ]
    }
   ],
   "source": [
    "def get_results(expt):\n",
    "    print(f\"Distance: {expt['d']} (surface code)\")\n",
    "    print(f\"Number of qubits: {expt['nqubits']}\")\n",
    "    print(f\"Number of gates: {expt['ngates']}\")\n",
    "    print(f\"{'-'*40}\")\n",
    "    print(f\"{'Bonddim':<8}{'Fidelity':<15}{'Time (s)':<10}\")\n",
    "    print(f\"{'-'*40}\")\n",
    "\n",
    "    for i, job in enumerate(expt['jobs']):\n",
    "        if not conn.isJobDone(job): continue\n",
    "        results = conn.get_results(job)\n",
    "        avg_fidelity = np.mean([r.fidelities for r in results])\n",
    "        avg_time = np.mean([r.timings[\"total\"] for r in results])\n",
    "        print(f\"{expt['bonddims'][i]:<8}{avg_fidelity:<15.6f}{avg_time:<10.3f}\")\n",
    "\n",
    "get_results(expt)"
   ]
  },
  {
   "cell_type": "markdown",
   "id": "818d1897",
   "metadata": {},
   "source": [
    "## Going further with MIMIQ\n",
    "Our initial results show that the simulation fidelity for the distance 5 surface code reaches 1 for a bond dimension of 256 or higher, and takes roughly 15 seconds/run. Not bad for a 49 qubit circuit - that is out of reach of statevector simulators, even running on HPCs. But is this the best we can do? \n",
    "\n",
    "Matrix product state (MPS) simulators are inherently based on a 1D representation. Though MIMIQ natively supports arbitrary connectivity, 2D problems, like surface codes, can be challenging. Fortunately, the surface code circuit, much like many quantum algorithms, has a highly structured nature that we can exploit. \n",
    "\n",
    "In the following we will show how to achieve dramatically better performance by carefully selecting a qubit ordering that minimizes long-range entanglement. To illustrate this, let's define a qubit mapping with custom ordering, beginning at the top left and proceeding in a zig-zag pattern along the diagonal."
   ]
  },
  {
   "cell_type": "code",
   "execution_count": 12,
   "id": "429118b7",
   "metadata": {},
   "outputs": [
    {
     "data": {
      "image/png": "[encoded data removed]",
      "text/plain": [
       "<Figure size 400x400 with 1 Axes>"
      ]
     },
     "metadata": {},
     "output_type": "display_data"
    }
   ],
   "source": [
    "def custom_sort(coord):\n",
    "    x, y = coord\n",
    "    # define diagonals\n",
    "    x, y = x + y, x - y\n",
    "    if x % 4 == 2:  # Odd planes\n",
    "        return (x, -y)\n",
    "    else:  # Even planes\n",
    "        return (x, y)\n",
    "\n",
    "data, X, Z = zxxz_surface_code_registers(d)\n",
    "qmap = qubit_map(data+X+Z, ordering=custom_sort)\n",
    "fig, ax = plt.subplots(figsize=(4, 4))\n",
    "plot_zxxz(data, X, Z, ax=ax)\n",
    "for (x, y), num in qmap.items():\n",
    "    ax.annotate(str(num), (x, y), color='w', size=7,\n",
    "                horizontalalignment='center',\n",
    "                verticalalignment='center')\n",
    "plt.show()"
   ]
  },
  {
   "cell_type": "markdown",
   "id": "c000e20b",
   "metadata": {},
   "source": [
    "We note that the resulting circuit will be identical to the one we had before, only we have assigned different indices to each of the qubits. This reordering doesn't change the quantum operations or the overall structure of the circuit. Instead, it alters how the simulator internally represents and processes the quantum state. By aligning the qubit indices more closely with the natural flow of information in the surface code, we can potentially reduce the computational resources required for simulation.\n",
    "\n",
    "Let run it with this new ordering to see what effect this has:"
   ]
  },
  {
   "cell_type": "markdown",
   "id": "628a5d1b",
   "metadata": {},
   "source": [
    "### Surface code with optimized qubit ordering"
   ]
  },
  {
   "cell_type": "code",
   "execution_count": 16,
   "id": "c77f19f9",
   "metadata": {},
   "outputs": [],
   "source": [
    "d = 5\n",
    "circuit = zxxz_surface_code(d, ordering=custom_sort)\n",
    "expt = submit_job(circuit, bonddims=[4,8,16,32,64,128,256], nsamples=10)"
   ]
  },
  {
   "cell_type": "code",
   "execution_count": 18,
   "id": "b63fb923",
   "metadata": {},
   "outputs": [
    {
     "name": "stdout",
     "output_type": "stream",
     "text": [
      "Distance: 5 (surface code)\n",
      "Number of qubits: 49\n",
      "Number of gates: 1036\n",
      "----------------------------------------\n",
      "Bonddim Fidelity       Time (s)  \n",
      "----------------------------------------\n",
      "4       0.000000       0.586     \n",
      "8       0.000000       1.523     \n",
      "16      0.812623       4.328     \n",
      "32      1.000000       3.198     \n",
      "64      1.000000       2.430     \n",
      "128     1.000000       5.390     \n",
      "256     1.000000       8.652     \n"
     ]
    }
   ],
   "source": [
    "get_results(expt)"
   ]
  },
  {
   "cell_type": "markdown",
   "id": "0bd30457",
   "metadata": {},
   "source": [
    "The results are striking! With our optimized qubit ordering, the minimum required bond dimension drops from 256 to just 32. Even more impressive, the simulation time has been slashed from 15 seconds to a mere 0.3 seconds per run. That's a 50x speedup! \n",
    "\n",
    "### Distance 9 surface code (161 qubits)\n",
    "Let's try push MIMIQ even further and tackle an even more ambitious challenge: simulating a distance 9 surface code, which involves 161 qubits! This is well out of the reach of statevector simulators and even surpasses the capabilities of state-of-the-art quantum hardware."
   ]
  },
  {
   "cell_type": "code",
   "execution_count": 23,
   "id": "dedfece8",
   "metadata": {
    "scrolled": false
   },
   "outputs": [],
   "source": [
    "d=9\n",
    "circuit = zxxz_surface_code(d, ordering=custom_sort)\n",
    "expt = submit_job(circuit, nsamples=1, bonddims=[1024])"
   ]
  },
  {
   "cell_type": "code",
   "execution_count": 24,
   "id": "3878078e",
   "metadata": {
    "scrolled": false
   },
   "outputs": [
    {
     "name": "stdout",
     "output_type": "stream",
     "text": [
      "Distance: 9 (surface code)\n",
      "Number of qubits: 161\n",
      "Number of gates: 6292\n",
      "----------------------------------------\n",
      "Bonddim Fidelity       Time (s)  \n",
      "----------------------------------------\n",
      "1024    1.000000       787.320   \n"
     ]
    }
   ],
   "source": [
    "get_results(expt)"
   ]
  },
  {
   "cell_type": "markdown",
   "id": "264e0627",
   "metadata": {},
   "source": [
    "## Conclusions\n",
    "In this demo, we've showcased MIMIQ's ability to simulate surface codes with code distances ranging from 5 to 9, effectively handling 2D qubit arrays of up to 161 qubits, including midcircuit measurements. This performance places MIMIQ at the forefront of tensor network and MPS methods, surpassing even state-of-the-art experimental results. While this demo offers a glimpse into MIMIQ's capabilities, with MIMIQ you can do much more:\n",
    "\n",
    "- Comprehensive QEC Simulation: MIMIQ can simulate a wide range of quantum error correcting codes, including those with non-Clifford gates.\n",
    "- Realistic Noise Modeling: Going beyond Pauli approximations, MIMIQ can model the effects of physically realistic noise channels.\n",
    "- Full Quantum State Analysis: MIMIQ provides access to entanglement properties and other characteristics of the full quantum state.\n",
    "- Advanced Fault-Tolerant Schemes: The simulator can handle advanced fault-tolerant quantum computing schemes involving multiple logical qubits, such as magic state distillation protocols.\n",
    "\n",
    "MIMIQ's combination of efficient MPS ansatz mapping, MPS-based circuit compression, and rapid circuit evaluation of trajectories - which can be distributed across multiple computational nodes - makes it as the tool of choice for evaluating quantum error correcting codes at the limits of classical computing. "
   ]
  }
 ],
 "metadata": {
  "kernelspec": {
   "display_name": "Python 3 (ipykernel)",
   "language": "python",
   "name": "python3"
  },
  "language_info": {
   "codemirror_mode": {
    "name": "ipython",
    "version": 3
   },
   "file_extension": ".py",
   "mimetype": "text/x-python",
   "name": "python",
   "nbconvert_exporter": "python",
   "pygments_lexer": "ipython3",
   "version": "3.12.2"
  }
 },
 "nbformat": 4,
 "nbformat_minor": 5
}
